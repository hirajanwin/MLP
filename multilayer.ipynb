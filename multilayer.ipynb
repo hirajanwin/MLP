{
 "cells": [
  {
   "cell_type": "code",
   "execution_count": 1,
   "metadata": {},
   "outputs": [],
   "source": [
    "import numpy as np \n",
    "from numpy import random as npr\n",
    "import matplotlib.pyplot as plt\n",
    "import seaborn as sns\n"
   ]
  },
  {
   "cell_type": "code",
   "execution_count": 2,
   "metadata": {},
   "outputs": [],
   "source": [
    "def sigmoid(z):\n",
    "    return((1 + np.exp(-z))**(-1))\n",
    "\n",
    "def ReLU(Z):\n",
    "    return np.maximum(Z, 0)\n",
    "\n",
    "def regularize(m):\n",
    "    return(m/np.sum(m))\n",
    "\n",
    "def weighted_cross_entropy(y, p, m):\n",
    "    return -sum(m*(y*np.log(p) + (1-y)*np.log(1-p)))\n",
    "\n",
    "def pFromX(X, seed = 123):\n",
    "    npr.seed(seed)\n",
    "    T = X @ npr.randn(D, 7)/1.5\n",
    "    T += sigmoid(T)\n",
    "    T -= np.exp(T/5)\n",
    "    T = T @ npr.randn(T.shape[1], 4)/1.5\n",
    "    T -= np.tile(T.mean(0), T.shape[0]).reshape(T.shape)\n",
    "    T /= np.tile(T.std(0), T.shape[0]).reshape(T.shape)/(10)\n",
    "    p = sigmoid(T.mean(1) - T.mean())\n",
    "    return p\n",
    "\n"
   ]
  },
  {
   "cell_type": "code",
   "execution_count": 39,
   "metadata": {},
   "outputs": [
    {
     "data": {
      "image/png": "[encoded data removed]",
      "text/plain": [
       "<Figure size 360x288 with 1 Axes>"
      ]
     },
     "metadata": {
      "needs_background": "light"
     },
     "output_type": "display_data"
    }
   ],
   "source": [
    "class NN():\n",
    "    \n",
    "    def __init__(self, name = None):\n",
    "        self.name = name\n",
    "        \n",
    "    def generate_data(self, N, D, pFromX, seed = 123):\n",
    "        npr.seed(seed)\n",
    "        self.N, self.D = N, D\n",
    "        self.m = np.repeat(1/N, N).reshape(N, 1)\n",
    "        mu = npr.randn(D) # means\n",
    "        Sigma = np.eye(D) # covariance\n",
    "        self.X = npr.multivariate_normal(mu, Sigma, size = N) # get data (X)\n",
    "        self.latent_p = pFromX(self.X) # get latent P\n",
    "        self.y = npr.binomial(1, self.latent_p, N).reshape(N, 1) # true outcome values\n",
    "      \n",
    "    def add_data(self, X, pFromX, seed = 123):\n",
    "        npr.seed(seed)\n",
    "        self.N, self.D = X.shape\n",
    "        self.m = np.repeat(1/self.N, self.N).reshape(N, 1)\n",
    "        self.X = X\n",
    "        self.latent_p = pFromX(X)\n",
    "        self.y = npr.binomial(1, self.latent_p, N).reshape(N, 1)\n",
    "        \n",
    "    def forward_pass(self):\n",
    "        for layer in range(self.layers):\n",
    "            if layer == 0: self.Z[layer] = (self.X @ self.W[layer]) + self.B[layer]\n",
    "            else: self.Z[layer] = (self.A[layer - 1] @ self.W[layer]) + self.B[layer]\n",
    "            self.A[layer] = self.activations[layer](self.Z[layer]) \n",
    "        self.L = weighted_cross_entropy(self.y, self.A[-1], self.m)\n",
    "        \n",
    "    def forward_pass_batch(self, batch):\n",
    "        # data\n",
    "        self.Xb = self.X[batch]\n",
    "        self.yb = self.y[batch]\n",
    "        self.mb = self.m[batch]\n",
    "        \n",
    "        # intermediate stuff\n",
    "        for layer in range(self.layers):\n",
    "            if layer == 0: self.Zb[layer] = (self.Xb @ self.W[layer]) + self.B[layer]\n",
    "            if layer !=0: self.Zb[layer] = (self.Ab[layer-1] @ self.W[layer]) + self.B[layer]\n",
    "            self.Ab[layer] = self.activations[layer](self.Zb[layer])\n",
    "        # update probs in original \n",
    "        self.A[-1][batch] = self.Ab[-1]\n",
    "        \n",
    "    def get_derivatives(self, batch):\n",
    "        # update batch\n",
    "        self.forward_pass_batch(batch)\n",
    "\n",
    "        # do last one \n",
    "        self.dLdA[-1] = (self.mb*(-self.yb/self.Ab[-1] + (1-self.yb)/(1-self.Ab[-1]))) # (B, 1)\n",
    "        self.dLdZ[-1] = (self.dLdA[-1] * sigmoid(self.Zb[-1])*(1-sigmoid(self.Zb[-1]))) # (B, 1)\n",
    "        self.dLdB[-1] = (self.dLdZ[-1].sum(0)) # 1\n",
    "        self.dLdW[-1] = ((self.dLdZ[-1].T @ self.Ab[-1]).T) # (h, 1)\n",
    "        self.Wmom[-1] = self.dLdW[-1]\n",
    "        self.Bmom[-1] = self.dLdB[-1]\n",
    "        \n",
    "        # do the rest and do them in reverse\n",
    "        for layer in range(self.layers-1)[::-1]:\n",
    "\n",
    "            # change old derivatives to momentum terms \n",
    "            self.Wmom[layer] = self.dLdW[layer]\n",
    "            self.Bmom[layer] = self.dLdB[layer]\n",
    "\n",
    "            # get derivatives of loss function\n",
    "            self.dLdA[layer] = self.dLdZ[layer + 1] @ self.W[layer + 1].T \n",
    "            self.dLdZ[layer] = self.dLdA[layer] * (self.Zb[layer] > 0) \n",
    "            self.dLdB[layer] = self.dLdZ[layer].sum(0)\n",
    "            if layer == 0: self.dLdW[layer] = (self.dLdZ[layer].T @ self.Xb).T\n",
    "            else: self.dLdW[layer] = (self.dLdZ[layer].T @ self.Ab[layer-1]).T \n",
    "\n",
    "    def update_parameters(self):\n",
    "        for layer in range(self.layers):\n",
    "            self.W[layer] -= self.lr*self.dLdW[layer] + self.momentum*self.Wmom[layer]\n",
    "            self.B[layer] -= self.lr*self.dLdB[layer] + self.momentum*self.Bmom[layer]\n",
    "    \n",
    "    def get_loss(self):\n",
    "        self.L = weighted_cross_entropy(self.y, self.A[-1], self.m)[0]\n",
    "            \n",
    "    def instantiate(self):\n",
    "        self.W = []\n",
    "        self.B = []\n",
    "        self.Z = []\n",
    "        self.A = []\n",
    "        self.Zb = []\n",
    "        self.Ab = []\n",
    "        self.dLdW = []\n",
    "        self.dLdB = []\n",
    "        self.dLdZ = []\n",
    "        self.dLdA = []\n",
    "        self.Wmom = []\n",
    "        self.Bmom = []\n",
    "        \n",
    "        for layer in range(self.layers):\n",
    "            \n",
    "            # get layer and previous layer\n",
    "            current_h = self.h[layer]\n",
    "            prev_h = self.prev_h[layer]\n",
    "            \n",
    "            # generate random W and B \n",
    "            self.W.append(npr.randn(prev_h*current_h).reshape((prev_h, current_h)))\n",
    "            self.B.append(npr.randn(current_h))\n",
    "            \n",
    "            # empty array for Z and A\n",
    "            self.Z.append(np.empty((self.N, current_h)))\n",
    "            self.A.append(np.empty((self.N, current_h)))\n",
    "            self.Zb.append(np.empty((1, current_h)))\n",
    "            self.Ab.append(np.empty((1, current_h))) # todo: tehse shouldn't be 1s but shoudl be the batch size\n",
    "            \n",
    "            # derivatives/momentum for everything (set dLdW and dLdB to 0 so first momentum term is 0)\n",
    "            self.dLdW.append(np.zeros((prev_h, current_h)))\n",
    "            self.dLdB.append(np.zeros(current_h))\n",
    "            self.dLdZ.append(np.empty((self.N, current_h)))\n",
    "            self.dLdA.append(np.empty((self.N, current_h)))\n",
    "            self.Wmom.append(np.empty((prev_h, current_h)))\n",
    "            self.Bmom.append(np.empty((prev_h, current_h)))\n",
    "    \n",
    "    def build(self, h, activations):\n",
    "        self.prev_h = [self.D] + list(h)\n",
    "        self.h = list(h) + [1]\n",
    "        self.layers = len(self.h)\n",
    "        self.activations = activations\n",
    "\n",
    "    def train(self, lr, epochs, batch_size, momentum = 0):\n",
    "        # add parameters\n",
    "        self.lr = lr\n",
    "        self.epochs = epochs \n",
    "        self.batch_size = batch_size\n",
    "        self.momentum = momentum\n",
    "        \n",
    "        # instantiate\n",
    "        self.instantiate()\n",
    "        \n",
    "        # fill in A and Z\n",
    "        self.forward_pass()\n",
    "\n",
    "        # train by epoch\n",
    "        self.losses = []\n",
    "        n_batches = self.N // self.batch_size\n",
    "        for epoch in range(epochs):\n",
    "            batch_indices = np.split(npr.permutation(np.arange(self.N)), n_batches)\n",
    "            for i, batch in enumerate(batch_indices):\n",
    "                self.get_derivatives(batch)\n",
    "                self.update_parameters()\n",
    "            self.get_loss()\n",
    "            self.losses.append(self.L)\n",
    "        self.forward_pass() # get output for all observations\n",
    "        \n",
    "    def plot_losses(self):\n",
    "        fig, ax = plt.subplots(figsize = (5, 4))\n",
    "        sns.lineplot(np.arange(self.epochs), self.losses)\n",
    "        ax.set(xlabel = 'Iterations', ylabel = 'Loss');\n",
    "        \n",
    "    def plot_ps(self):\n",
    "        fig, ax = plt.subplots(figsize = (5, 4))\n",
    "        sns.scatterplot(self.latent_p, self.A[-1].reshape(-1))\n",
    "        sns.lineplot(np.arange(2), np.arange(2))\n",
    "        ax.set(xlabel = 'latent p', ylabel = 'p');\n",
    "\n",
    "N, D = 100, 4\n",
    "hidden_layers, activations = [4, 4], [ReLU, ReLU, sigmoid]\n",
    "lr, epochs, batch_size, momentum = 0.05, 2500, 10, 0.01\n",
    "\n",
    "nn = NN()\n",
    "nn.generate_data(N, D, pFromX)\n",
    "nn.build(hidden_layers, activations)\n",
    "nn.train(lr, epochs, batch_size, momentum)\n",
    "nn.plot_losses()\n"
   ]
  },
  {
   "cell_type": "markdown",
   "metadata": {},
   "source": [
    "TODO: add a predict method (forward pass on new dataset)"
   ]
  },
  {
   "cell_type": "code",
   "execution_count": 40,
   "metadata": {},
   "outputs": [],
   "source": [
    "from sklearn.linear_model import LogisticRegression as LR\n",
    "lr = LR()\n",
    "lr.fit(nn.X, nn.y.reshape(-1));"
   ]
  },
  {
   "cell_type": "code",
   "execution_count": 41,
   "metadata": {},
   "outputs": [],
   "source": [
    "yhat_nn = nn.A[-1].reshape(-1)\n",
    "yhat_lr = lr.predict_proba(nn.X)[:,1]\n",
    "y = nn.y.reshape(-1)"
   ]
  },
  {
   "cell_type": "code",
   "execution_count": 42,
   "metadata": {},
   "outputs": [
    {
     "data": {
      "text/plain": [
       "32.067441347506"
      ]
     },
     "execution_count": 42,
     "metadata": {},
     "output_type": "execute_result"
    }
   ],
   "source": [
    "- sum(y*np.log(yhat_lr) + (1-y)*np.log(1-yhat_lr))"
   ]
  },
  {
   "cell_type": "code",
   "execution_count": 43,
   "metadata": {},
   "outputs": [
    {
     "data": {
      "text/plain": [
       "25.718161988488095"
      ]
     },
     "execution_count": 43,
     "metadata": {},
     "output_type": "execute_result"
    }
   ],
   "source": [
    "- sum(y*np.log(yhat_nn) + (1-y)*np.log(1-yhat_nn))"
   ]
  }
 ],
 "metadata": {
  "kernelspec": {
   "display_name": "Python 3",
   "language": "python",
   "name": "python3"
  },
  "language_info": {
   "codemirror_mode": {
    "name": "ipython",
    "version": 3
   },
   "file_extension": ".py",
   "mimetype": "text/x-python",
   "name": "python",
   "nbconvert_exporter": "python",
   "pygments_lexer": "ipython3",
   "version": "3.7.6"
  }
 },
 "nbformat": 4,
 "nbformat_minor": 4
}
