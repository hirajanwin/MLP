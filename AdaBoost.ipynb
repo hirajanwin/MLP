{
 "cells": [
  {
   "cell_type": "code",
   "execution_count": 1,
   "metadata": {},
   "outputs": [],
   "source": [
    "import numpy as np \n",
    "from numpy import random as npr\n",
    "import pandas as pd\n",
    "import matplotlib.pyplot as plt\n",
    "import seaborn as sns\n",
    "from scipy import stats\n",
    "from datetime import datetime as dt\n",
    "import os\n",
    "from sklearn import *\n"
   ]
  },
  {
   "cell_type": "code",
   "execution_count": 2,
   "metadata": {},
   "outputs": [],
   "source": [
    "def sigmoid(z):\n",
    "    return((1 + np.exp(-z))**(-1))\n",
    "\n",
    "def regularize(m):\n",
    "    return(m/np.sum(m))\n",
    "\n",
    "def ReLU(Z):\n",
    "    return np.maximum(Z, 0)\n",
    "\n",
    "def weighted_cross_entropy(y, p, m):\n",
    "    return -sum(m*(y*np.log(p) + (1-y)*np.log(1-p)))\n",
    "\n",
    "def get_dAdZ1(A, Z1):\n",
    "    rows, columns = A.shape \n",
    "    d = np.zeros((rows, columns, rows, columns))\n",
    "    for r in range(rows):\n",
    "        for c in range(columns):\n",
    "            d[r,c,r,c] = Z1[r, c]\n",
    "    return np.maximum(d, 0)\n",
    "\n",
    "def get_dZ1dB1(Z1, B1):\n",
    "    rows, columns = Z1.shape \n",
    "    d = np.zeros((rows, columns, rows, columns))\n",
    "    for r in range(rows):\n",
    "        for c in range(columns):\n",
    "            d[r,c,r,c] = 1\n",
    "    return d\n",
    "\n",
    "def get_dZ1dW1(Z1, X):\n",
    "    rows, columns = Z1.shape \n",
    "    features = X.shape[1]\n",
    "    d = np.zeros((rows, columns, features, columns))\n",
    "    for r in range(rows):\n",
    "        for c in range(columns):\n",
    "            d[r,c,:,c] = X[r,:]\n",
    "    return d\n",
    "\n",
    "def pFromX(X, seed = 1103):\n",
    "    npr.seed(seed)\n",
    "    T = X @ npr.randn(D, 7)/1.5\n",
    "    T += sigmoid(T)\n",
    "    T -= np.exp(T/5)\n",
    "    T = T @ npr.randn(T.shape[1], 4)/1.5\n",
    "    T -= np.tile(T.mean(0), T.shape[0]).reshape(T.shape)\n",
    "    T /= np.tile(T.std(0), T.shape[0]).reshape(T.shape)/(10)\n",
    "    p = sigmoid(T.mean(1) - T.mean())\n",
    "    return p"
   ]
  },
  {
   "cell_type": "code",
   "execution_count": 3,
   "metadata": {},
   "outputs": [
    {
     "data": {
      "image/png": "[encoded data removed]",
      "text/plain": [
       "<Figure size 504x360 with 1 Axes>"
      ]
     },
     "metadata": {
      "needs_background": "light"
     },
     "output_type": "display_data"
    }
   ],
   "source": [
    "class NN():\n",
    "    \n",
    "    def __init__(self, name = None):\n",
    "        self.name = name\n",
    "        \n",
    "    def generate_data(self, N, D, pFromX, seed = 1103):\n",
    "        npr.seed(seed)\n",
    "        self.N, self.D = N, D\n",
    "        self.m = np.repeat(1/N, N)\n",
    "        mu = npr.randn(D) # means\n",
    "        Sigma = np.eye(D) # covariance\n",
    "        self.X = npr.multivariate_normal(mu, Sigma, size = N) # get data (X)\n",
    "        self.latent_p = pFromX(self.X) # get latent P\n",
    "        self.y = npr.binomial(1, self.latent_p, N) # true outcome values\n",
    "      \n",
    "    def add_data(self, X, pFromX, seed = 1103):\n",
    "        npr.seed(seed)\n",
    "        self.N, self.D = X.shape\n",
    "        self.m = np.repeat(1/self.N, self.N)\n",
    "        self.X = X\n",
    "        self.latent_p = pFromX(X)\n",
    "        self.y = npr.binomial(1, self.latent_p, N)\n",
    "        \n",
    "    def get_output(self):\n",
    "        self.Z1 = (self.X @ self.W1) + self.B1\n",
    "        self.A = ReLU(self.Z1)\n",
    "        self.z2 = (self.A @ self.w2) + self.b2\n",
    "        self.p = sigmoid(self.z2)\n",
    "        self.L = weighted_cross_entropy(self.y, self.p, self.m)\n",
    "        \n",
    "    def get_derivatives(self):\n",
    "        # partials\n",
    "        dpdz2 = np.diag(sigmoid(self.z2)*(1-sigmoid(self.z2))) # (N, N)\n",
    "        dz2db2 = np.eye(self.N) # (N, N)\n",
    "        dz2dw2 = self.A # (N, h)\n",
    "        dz2dA = np.tensordot(np.eye(self.N), self.w2, 0) # (N, N, h)\n",
    "        dAdZ1 = get_dAdZ1(self.A, self.Z1) # (N, h, N, h)\n",
    "        dZ1dB1 = get_dZ1dB1(self.Z1, self.B1) # (N, h, N, h)\n",
    "        dZ1dW1 = get_dZ1dW1(self.Z1, self.X) # (N, h, D, h)\n",
    "\n",
    "        # full derivatives of loss function\n",
    "        self.dLdp = self.m*(-self.y/self.p + (1-self.y)/(1-self.p)) # N\n",
    "        self.dLdz2 = self.dLdp @ dpdz2 # N\n",
    "        self.dLdb2 = self.dLdz2 @ dz2db2 # N\n",
    "        self.dLdw2 = self.dLdz2 @ dz2dw2 # h\n",
    "        self.dLdA = np.tensordot(self.dLdz2, dz2dA, 1) # (N, h)\n",
    "        self.dLdZ1 = ReLU(self.dLdA) * (self.Z1 > 0) # (N, h)\n",
    "        self.dLdB1 = self.dLdZ1.sum(0) # h\n",
    "        self.dLdW1 = self.X.T @ self.dLdZ1 # (D, h)\n",
    "        \n",
    "    def update_parameters(self):\n",
    "        self.W1 -= self.lr*self.dLdW1\n",
    "        self.B1 -= self.lr*self.dLdB1\n",
    "        self.w2 -= self.lr*self.dLdw2\n",
    "        self.b2 -= self.lr*self.dLdb2\n",
    "        \n",
    "    def train(self, h, lr, n_iters):\n",
    "        # add parameters\n",
    "        self.h = h \n",
    "        self.lr = lr\n",
    "        self.n_iters = n_iters \n",
    "        \n",
    "        # instantiate parameters randomly and get outputs\n",
    "        self.W1 = npr.randn(self.D*self.h).reshape((self.D, self.h))\n",
    "        self.B1 = np.tile(npr.randn(self.h), self.N).reshape((self.N, self.h))\n",
    "        self.w2 = npr.randn(self.h)\n",
    "        self.b2 = npr.randn(self.N) \n",
    "        self.get_output()\n",
    "        \n",
    "        # loop\n",
    "        self.losses = []\n",
    "        for i in range(n_iters):\n",
    "            self.get_derivatives()\n",
    "            self.update_parameters()\n",
    "            self.get_output()\n",
    "            self.losses.append(self.L)\n",
    "            \n",
    "    def plot_losses(self):\n",
    "        fig, ax = plt.subplots(figsize = (7, 5))\n",
    "        sns.lineplot(np.arange(self.n_iters), self.losses)\n",
    "        ax.set(xlabel = 'Iterations', ylabel = 'Loss');\n",
    "        \n",
    "\n",
    "N, D = 100, 5 \n",
    "h, lr, n_iters = 3, 0.1, 10**4\n",
    "nn = NN()\n",
    "nn.generate_data(N, D, pFromX)\n",
    "nn.train(h, lr, n_iters)\n",
    "nn.plot_losses()"
   ]
  },
  {
   "cell_type": "code",
   "execution_count": 4,
   "metadata": {},
   "outputs": [
    {
     "data": {
      "text/plain": [
       "0.8146046830697787"
      ]
     },
     "execution_count": 4,
     "metadata": {},
     "output_type": "execute_result"
    }
   ],
   "source": [
    "np.mean(nn.p[nn.y == 1]) - np.mean(nn.p[nn.y == 0])"
   ]
  }
 ],
 "metadata": {
  "kernelspec": {
   "display_name": "Python 3",
   "language": "python",
   "name": "python3"
  },
  "language_info": {
   "codemirror_mode": {
    "name": "ipython",
    "version": 3
   },
   "file_extension": ".py",
   "mimetype": "text/x-python",
   "name": "python",
   "nbconvert_exporter": "python",
   "pygments_lexer": "ipython3",
   "version": "3.7.6"
  }
 },
 "nbformat": 4,
 "nbformat_minor": 4
}
